{
 "cells": [
  {
   "cell_type": "code",
   "execution_count": 13,
   "metadata": {},
   "outputs": [],
   "source": [
    "import os\n",
    "from potentiostat import potentiostat\n",
    "from functools import wraps"
   ]
  },
  {
   "cell_type": "code",
   "execution_count": 14,
   "metadata": {},
   "outputs": [],
   "source": [
    "def not_connected(func):\n",
    "    @wraps(func)\n",
    "    def wrapper(*args, **kwargs):\n",
    "        coms = func(*args, **kwargs)\n",
    "        no_coms = len(coms)\n",
    "        if no_coms == 0:\n",
    "            'No Potentiostats Connected'\n",
    "        else:\n",
    "            return coms\n",
    "    return wrapper\n",
    "\n",
    "@not_connected\n",
    "def fetch_coms():\n",
    "    ls = os.listdir('/dev')\n",
    "    coms = [p for p in ls if p.startswith('ttyACM')]\n",
    "    return coms\n",
    "\n",
    "def fetch_ports():\n",
    "    coms = fetch_coms()\n",
    "    pots = {}\n",
    "    for c in coms:\n",
    "        p = Potentiostat('/dev/{}'.format(c))\n",
    "        if p not in pots:\n",
    "            pots['pot{}'.format(p.get_device_id())] = p\n",
    "    return pots\n"
   ]
  },
  {
   "cell_type": "code",
   "execution_count": 15,
   "metadata": {},
   "outputs": [],
   "source": [
    "fetch_coms()"
   ]
  },
  {
   "cell_type": "code",
   "execution_count": 17,
   "metadata": {},
   "outputs": [
    {
     "data": {
      "text/plain": [
       "['ttyACM4', 'ttyACM3']"
      ]
     },
     "execution_count": 17,
     "metadata": {},
     "output_type": "execute_result"
    }
   ],
   "source": [
    "ls = os.listdir('/dev')\n",
    "coms = [p for p in ls if p.startswith('ttyACM')]\n",
    "coms"
   ]
  },
  {
   "cell_type": "code",
   "execution_count": 1,
   "metadata": {},
   "outputs": [
    {
     "data": {
      "text/plain": [
       "678"
      ]
     },
     "execution_count": 1,
     "metadata": {},
     "output_type": "execute_result"
    }
   ],
   "source": [
    "150 + 15 +150 + 10 + 8 + 15 + 30 + 10 + 10 + 5 + 50 + 60 + 20 + 50 + 15 + 15 + 15 + 30 + 20"
   ]
  },
  {
   "cell_type": "code",
   "execution_count": 2,
   "metadata": {},
   "outputs": [
    {
     "data": {
      "text/plain": [
       "13125.0"
      ]
     },
     "execution_count": 2,
     "metadata": {},
     "output_type": "execute_result"
    }
   ],
   "source": [
    "700 * 18.75"
   ]
  },
  {
   "cell_type": "code",
   "execution_count": 3,
   "metadata": {},
   "outputs": [
    {
     "data": {
      "text/plain": [
       "35000"
      ]
     },
     "execution_count": 3,
     "metadata": {},
     "output_type": "execute_result"
    }
   ],
   "source": [
    "700 * 50"
   ]
  },
  {
   "cell_type": "code",
   "execution_count": null,
   "metadata": {},
   "outputs": [],
   "source": []
  }
 ],
 "metadata": {
  "kernelspec": {
   "display_name": "Python 3",
   "language": "python",
   "name": "python3"
  },
  "language_info": {
   "codemirror_mode": {
    "name": "ipython",
    "version": 3
   },
   "file_extension": ".py",
   "mimetype": "text/x-python",
   "name": "python",
   "nbconvert_exporter": "python",
   "pygments_lexer": "ipython3",
   "version": "3.6.5"
  }
 },
 "nbformat": 4,
 "nbformat_minor": 2
}
